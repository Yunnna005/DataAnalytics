{
 "cells": [
  {
   "cell_type": "markdown",
   "metadata": {},
   "source": [
    "### Active Engagement\n",
    "To explore the impact of BTS music on mental health, I began by identifying key areas of focus:\n",
    "  \n",
    "- Defined purpose: Assess BTS music’s impact on fans' mental health.  \n",
    "- Key questions: How does BTS music affect mood? Are there correlations with mental health ratings?  \n",
    "- Planned two datasets: survey data and Spotify/lyrics data.  \n",
    "\n",
    "I then defined two datasets for analysis: \n",
    "- Designed form to collect data on demographics, listening habits, mental health metrics, and qualitative feedback.  \n",
    "- Tested the form with peers and refined questions for clarity.  \n",
    "\n",
    "I designed a Google Form to collect detailed and diverse responses from BTS fans.\n",
    "- [Google Form Link](https://docs.google.com/forms/d/e/1FAIpQLSdJJ_qkvIGL6EMnlaQrQvmnOLnZB0qCprr8yWjSUuybtRgK7w/viewform?usp=sf_link)  \n",
    "- Distributed the form via BTS fan forums and social media. \n",
    "- Gathered Spotify metadata and lyrics for analysis.  \n",
    "\n",
    "Throughout the project, I actively sought feedback:\n",
    "- **Peers**: Reviewed survey design and analysis ideas.  \n",
    "- **Mentors**: Advised on KDD process and mental health frameworks.  \n",
    "\n",
    "Feedback improved survey design, added fandom-related questions, and guided integration of Spotify data, enriching the analysis."
   ]
  },
  {
   "cell_type": "markdown",
   "metadata": {},
   "source": [
    "## **Libraries**"
   ]
  },
  {
   "cell_type": "code",
   "execution_count": 57,
   "metadata": {},
   "outputs": [
    {
     "name": "stdout",
     "output_type": "stream",
     "text": [
      "Libraries are installed and working!\n"
     ]
    }
   ],
   "source": [
    "import pandas as pd\n",
    "import numpy as np\n",
    "import matplotlib.pyplot as plt\n",
    "import seaborn as sns\n",
    "from wordcloud import WordCloud\n",
    "\n",
    "print(\"Libraries are installed and working!\")"
   ]
  },
  {
   "cell_type": "markdown",
   "metadata": {},
   "source": [
    "## **Display Survey and Spotify datasets** "
   ]
  },
  {
   "cell_type": "code",
   "execution_count": 133,
   "metadata": {},
   "outputs": [
    {
     "data": {
      "text/html": [
       "<div>\n",
       "<style scoped>\n",
       "    .dataframe tbody tr th:only-of-type {\n",
       "        vertical-align: middle;\n",
       "    }\n",
       "\n",
       "    .dataframe tbody tr th {\n",
       "        vertical-align: top;\n",
       "    }\n",
       "\n",
       "    .dataframe thead th {\n",
       "        text-align: right;\n",
       "    }\n",
       "</style>\n",
       "<table border=\"1\" class=\"dataframe\">\n",
       "  <thead>\n",
       "    <tr style=\"text-align: right;\">\n",
       "      <th></th>\n",
       "      <th>Отметка времени</th>\n",
       "      <th>What is your age?</th>\n",
       "      <th>What is your gender?</th>\n",
       "      <th>What country are you from?</th>\n",
       "      <th>How often do you listen to BTS music?</th>\n",
       "      <th>How many hours per day do you listen to music?</th>\n",
       "      <th>What is your primary music streaming service?</th>\n",
       "      <th>What is your favorite BTS song?</th>\n",
       "      <th>On a scale of 0-10, how would you rate your current level of anxiety?</th>\n",
       "      <th>On a scale of 0-10, how would you rate your current level of depression?</th>\n",
       "      <th>...</th>\n",
       "      <th>How often do you feel sad?</th>\n",
       "      <th>How does listening to BTS music affect your mood?</th>\n",
       "      <th>Do you use BTS music as a coping mechanism for stress or anxiety?</th>\n",
       "      <th>Do you believe that BTS music has improved your mental health?</th>\n",
       "      <th>If yes, please explain how (optional)</th>\n",
       "      <th>What themes in BTS's music resonate with you the most?</th>\n",
       "      <th>Are you a part of BTS fandom (ARMY)?</th>\n",
       "      <th>How has being part of the BTS fandom (ARMY) impacted your mental health?</th>\n",
       "      <th>Do you discuss BTS music and its impact on mental health with others?</th>\n",
       "      <th>Is there anything else you would like to share about your experience with BTS music and its impact on your mental health?</th>\n",
       "    </tr>\n",
       "  </thead>\n",
       "  <tbody>\n",
       "    <tr>\n",
       "      <th>0</th>\n",
       "      <td>11.11.2024 16:30:01</td>\n",
       "      <td>19</td>\n",
       "      <td>Female</td>\n",
       "      <td>Ukraine</td>\n",
       "      <td>4.0</td>\n",
       "      <td>5</td>\n",
       "      <td>Spotify</td>\n",
       "      <td>Not Today</td>\n",
       "      <td>6</td>\n",
       "      <td>2</td>\n",
       "      <td>...</td>\n",
       "      <td>2</td>\n",
       "      <td>5</td>\n",
       "      <td>Yes</td>\n",
       "      <td>Yes</td>\n",
       "      <td>It gives me more confidence and I do not feel ...</td>\n",
       "      <td>Cool</td>\n",
       "      <td>Yes</td>\n",
       "      <td>ARMY is very strong fandom. They will anything...</td>\n",
       "      <td>Yes</td>\n",
       "      <td>BTS forever💜</td>\n",
       "    </tr>\n",
       "    <tr>\n",
       "      <th>1</th>\n",
       "      <td>11.11.2024 17:56:08</td>\n",
       "      <td>16</td>\n",
       "      <td>Female</td>\n",
       "      <td>India</td>\n",
       "      <td>5.0</td>\n",
       "      <td>3</td>\n",
       "      <td>Spotify, YouTube Music</td>\n",
       "      <td>Boy with luv</td>\n",
       "      <td>8</td>\n",
       "      <td>8</td>\n",
       "      <td>...</td>\n",
       "      <td>4</td>\n",
       "      <td>5</td>\n",
       "      <td>Yes</td>\n",
       "      <td>I don't know</td>\n",
       "      <td>NaN</td>\n",
       "      <td>Lively themes</td>\n",
       "      <td>Yes</td>\n",
       "      <td>It helped me gain confidence and stay happy</td>\n",
       "      <td>Yes</td>\n",
       "      <td>No</td>\n",
       "    </tr>\n",
       "    <tr>\n",
       "      <th>2</th>\n",
       "      <td>12.11.2024 3:57:24</td>\n",
       "      <td>19</td>\n",
       "      <td>Female</td>\n",
       "      <td>India</td>\n",
       "      <td>5.0</td>\n",
       "      <td>3</td>\n",
       "      <td>Spotify, YouTube Music</td>\n",
       "      <td>Zero o clock</td>\n",
       "      <td>3</td>\n",
       "      <td>0</td>\n",
       "      <td>...</td>\n",
       "      <td>1</td>\n",
       "      <td>5</td>\n",
       "      <td>Yes</td>\n",
       "      <td>Yes</td>\n",
       "      <td>When COVID hit, I was already in deep depressi...</td>\n",
       "      <td>Love yourself for truly who u are, face yourse...</td>\n",
       "      <td>Yes</td>\n",
       "      <td>Very much in a positive way.like whenever I fe...</td>\n",
       "      <td>Yes</td>\n",
       "      <td>I have already shared everything..I think youn...</td>\n",
       "    </tr>\n",
       "    <tr>\n",
       "      <th>3</th>\n",
       "      <td>12.11.2024 16:48:51</td>\n",
       "      <td>15</td>\n",
       "      <td>Female</td>\n",
       "      <td>Maryland United state of America, and fuzhou c...</td>\n",
       "      <td>5.0</td>\n",
       "      <td>5</td>\n",
       "      <td>Spotify</td>\n",
       "      <td>No more dreams, Spring days, and permission to...</td>\n",
       "      <td>1</td>\n",
       "      <td>2</td>\n",
       "      <td>...</td>\n",
       "      <td>1</td>\n",
       "      <td>5</td>\n",
       "      <td>I don't know</td>\n",
       "      <td>I don't know</td>\n",
       "      <td>I said idk because I listened to bts since 4th...</td>\n",
       "      <td>Idk</td>\n",
       "      <td>Yes</td>\n",
       "      <td>Idk</td>\n",
       "      <td>No</td>\n",
       "      <td>I love bts and they make me happy</td>\n",
       "    </tr>\n",
       "    <tr>\n",
       "      <th>4</th>\n",
       "      <td>13.11.2024 0:39:52</td>\n",
       "      <td>17</td>\n",
       "      <td>Male</td>\n",
       "      <td>North America</td>\n",
       "      <td>5.0</td>\n",
       "      <td>5</td>\n",
       "      <td>Spotify</td>\n",
       "      <td>I Need U</td>\n",
       "      <td>4</td>\n",
       "      <td>2</td>\n",
       "      <td>...</td>\n",
       "      <td>1</td>\n",
       "      <td>5</td>\n",
       "      <td>No</td>\n",
       "      <td>Yes</td>\n",
       "      <td>Well.... a lot of their music ive been able to...</td>\n",
       "      <td>everything, from their music about love to the...</td>\n",
       "      <td>Yes</td>\n",
       "      <td>honestly, a good amount</td>\n",
       "      <td>No</td>\n",
       "      <td>no, thats all</td>\n",
       "    </tr>\n",
       "  </tbody>\n",
       "</table>\n",
       "<p>5 rows × 22 columns</p>\n",
       "</div>"
      ],
      "text/plain": [
       "       Отметка времени What is your age? What is your gender?  \\\n",
       "0  11.11.2024 16:30:01                19               Female   \n",
       "1  11.11.2024 17:56:08                16               Female   \n",
       "2   12.11.2024 3:57:24                19               Female   \n",
       "3  12.11.2024 16:48:51                15               Female   \n",
       "4   13.11.2024 0:39:52                17                 Male   \n",
       "\n",
       "                          What country are you from?  \\\n",
       "0                                            Ukraine   \n",
       "1                                              India   \n",
       "2                                              India   \n",
       "3  Maryland United state of America, and fuzhou c...   \n",
       "4                                      North America   \n",
       "\n",
       "   How often do you listen to BTS music?  \\\n",
       "0                                    4.0   \n",
       "1                                    5.0   \n",
       "2                                    5.0   \n",
       "3                                    5.0   \n",
       "4                                    5.0   \n",
       "\n",
       "   How many hours per day do you listen to music?  \\\n",
       "0                                               5   \n",
       "1                                               3   \n",
       "2                                               3   \n",
       "3                                               5   \n",
       "4                                               5   \n",
       "\n",
       "  What is your primary music streaming service?  \\\n",
       "0                                       Spotify   \n",
       "1                        Spotify, YouTube Music   \n",
       "2                        Spotify, YouTube Music   \n",
       "3                                       Spotify   \n",
       "4                                       Spotify   \n",
       "\n",
       "                     What is your favorite BTS song?  \\\n",
       "0                                          Not Today   \n",
       "1                                       Boy with luv   \n",
       "2                                      Zero o clock    \n",
       "3  No more dreams, Spring days, and permission to...   \n",
       "4                                           I Need U   \n",
       "\n",
       "   On a scale of 0-10, how would you rate your current level of anxiety?  \\\n",
       "0                                                  6                       \n",
       "1                                                  8                       \n",
       "2                                                  3                       \n",
       "3                                                  1                       \n",
       "4                                                  4                       \n",
       "\n",
       "   On a scale of 0-10, how would you rate your current level of depression?   \\\n",
       "0                                                  2                           \n",
       "1                                                  8                           \n",
       "2                                                  0                           \n",
       "3                                                  2                           \n",
       "4                                                  2                           \n",
       "\n",
       "   ...  How often do you feel sad?  \\\n",
       "0  ...                           2   \n",
       "1  ...                           4   \n",
       "2  ...                           1   \n",
       "3  ...                           1   \n",
       "4  ...                           1   \n",
       "\n",
       "   How does listening to BTS music affect your mood?  \\\n",
       "0                                                  5   \n",
       "1                                                  5   \n",
       "2                                                  5   \n",
       "3                                                  5   \n",
       "4                                                  5   \n",
       "\n",
       "   Do you use BTS music as a coping mechanism for stress or anxiety?  \\\n",
       "0                                                Yes                   \n",
       "1                                                Yes                   \n",
       "2                                                Yes                   \n",
       "3                                       I don't know                   \n",
       "4                                                 No                   \n",
       "\n",
       "   Do you believe that BTS music has improved your mental health?  \\\n",
       "0                                                Yes                \n",
       "1                                       I don't know                \n",
       "2                                                Yes                \n",
       "3                                       I don't know                \n",
       "4                                                Yes                \n",
       "\n",
       "               If yes, please explain how (optional)  \\\n",
       "0  It gives me more confidence and I do not feel ...   \n",
       "1                                                NaN   \n",
       "2  When COVID hit, I was already in deep depressi...   \n",
       "3  I said idk because I listened to bts since 4th...   \n",
       "4  Well.... a lot of their music ive been able to...   \n",
       "\n",
       "  What themes in BTS's music resonate with you the most?  \\\n",
       "0                                               Cool       \n",
       "1                                      Lively themes       \n",
       "2  Love yourself for truly who u are, face yourse...       \n",
       "3                                                Idk       \n",
       "4  everything, from their music about love to the...       \n",
       "\n",
       "  Are you a part of BTS fandom (ARMY)?  \\\n",
       "0                                  Yes   \n",
       "1                                  Yes   \n",
       "2                                  Yes   \n",
       "3                                  Yes   \n",
       "4                                  Yes   \n",
       "\n",
       "  How has being part of the BTS fandom (ARMY) impacted your mental health?  \\\n",
       "0  ARMY is very strong fandom. They will anything...                         \n",
       "1       It helped me gain confidence and stay happy                          \n",
       "2  Very much in a positive way.like whenever I fe...                         \n",
       "3                                                Idk                         \n",
       "4                            honestly, a good amount                         \n",
       "\n",
       "  Do you discuss BTS music and its impact on mental health with others?  \\\n",
       "0                                                Yes                      \n",
       "1                                                Yes                      \n",
       "2                                                Yes                      \n",
       "3                                                 No                      \n",
       "4                                                 No                      \n",
       "\n",
       "  Is there anything else you would like to share about your experience with BTS music and its impact on your mental health?  \n",
       "0                                       BTS forever💜                                                                         \n",
       "1                                                 No                                                                         \n",
       "2  I have already shared everything..I think youn...                                                                         \n",
       "3                  I love bts and they make me happy                                                                         \n",
       "4                                      no, thats all                                                                         \n",
       "\n",
       "[5 rows x 22 columns]"
      ]
     },
     "execution_count": 133,
     "metadata": {},
     "output_type": "execute_result"
    }
   ],
   "source": [
    "survey_data = pd.read_csv(\"original/bts_survey_data.csv\", encoding='utf-8')\n",
    "\n",
    "survey_data.head()\n"
   ]
  },
  {
   "cell_type": "code",
   "execution_count": 132,
   "metadata": {},
   "outputs": [
    {
     "data": {
      "text/html": [
       "<div>\n",
       "<style scoped>\n",
       "    .dataframe tbody tr th:only-of-type {\n",
       "        vertical-align: middle;\n",
       "    }\n",
       "\n",
       "    .dataframe tbody tr th {\n",
       "        vertical-align: top;\n",
       "    }\n",
       "\n",
       "    .dataframe thead th {\n",
       "        text-align: right;\n",
       "    }\n",
       "</style>\n",
       "<table border=\"1\" class=\"dataframe\">\n",
       "  <thead>\n",
       "    <tr style=\"text-align: right;\">\n",
       "      <th></th>\n",
       "      <th>id</th>\n",
       "      <th>album_title</th>\n",
       "      <th>eng_album_title</th>\n",
       "      <th>album_rd</th>\n",
       "      <th>album_seq</th>\n",
       "      <th>track_title</th>\n",
       "      <th>raw_track_title</th>\n",
       "      <th>eng_track_title</th>\n",
       "      <th>lyrics</th>\n",
       "      <th>hidden_track</th>\n",
       "      <th>...</th>\n",
       "      <th>spotify_track_mode</th>\n",
       "      <th>spotify_track_speechiness</th>\n",
       "      <th>spotify_track_acousticness</th>\n",
       "      <th>spotify_track_instrumentalness</th>\n",
       "      <th>spotify_track_liveness</th>\n",
       "      <th>spotify_track_valence</th>\n",
       "      <th>spotify_track_tempo</th>\n",
       "      <th>spotify_track_time_signature</th>\n",
       "      <th>eng_lyrics_source_url</th>\n",
       "      <th>eng_lyrics_credits</th>\n",
       "    </tr>\n",
       "  </thead>\n",
       "  <tbody>\n",
       "    <tr>\n",
       "      <th>0</th>\n",
       "      <td>BTS-1</td>\n",
       "      <td>2 Cool 4 Skool</td>\n",
       "      <td>2 Cool 4 Skool</td>\n",
       "      <td>2013-06-12</td>\n",
       "      <td>1</td>\n",
       "      <td>Intro: 2 Cool 4 Skool (ft. DJ Friz)</td>\n",
       "      <td>NaN</td>\n",
       "      <td>Intro: 2 Cool 4 Skool (ft. DJ Friz)</td>\n",
       "      <td>we're now going to progress to some steps\\nwhi...</td>\n",
       "      <td>False</td>\n",
       "      <td>...</td>\n",
       "      <td>1.0</td>\n",
       "      <td>0.245</td>\n",
       "      <td>0.1790</td>\n",
       "      <td>0.266000</td>\n",
       "      <td>0.179</td>\n",
       "      <td>0.532</td>\n",
       "      <td>94.871</td>\n",
       "      <td>4.0</td>\n",
       "      <td>NaN</td>\n",
       "      <td>NaN</td>\n",
       "    </tr>\n",
       "    <tr>\n",
       "      <th>1</th>\n",
       "      <td>BTS-2</td>\n",
       "      <td>2 Cool 4 Skool</td>\n",
       "      <td>2 Cool 4 Skool</td>\n",
       "      <td>2013-06-12</td>\n",
       "      <td>2</td>\n",
       "      <td>We Are Bulletproof Pt.2</td>\n",
       "      <td>NaN</td>\n",
       "      <td>We Are Bulletproof Pt.2</td>\n",
       "      <td>(what) give it to me\\n (what) be nervous\\n (wh...</td>\n",
       "      <td>False</td>\n",
       "      <td>...</td>\n",
       "      <td>0.0</td>\n",
       "      <td>0.160</td>\n",
       "      <td>0.0104</td>\n",
       "      <td>0.000006</td>\n",
       "      <td>0.134</td>\n",
       "      <td>0.868</td>\n",
       "      <td>144.020</td>\n",
       "      <td>4.0</td>\n",
       "      <td>NaN</td>\n",
       "      <td>NaN</td>\n",
       "    </tr>\n",
       "    <tr>\n",
       "      <th>2</th>\n",
       "      <td>BTS-3</td>\n",
       "      <td>2 Cool 4 Skool</td>\n",
       "      <td>2 Cool 4 Skool</td>\n",
       "      <td>2013-06-12</td>\n",
       "      <td>3</td>\n",
       "      <td>Skit: Circle Room Talk</td>\n",
       "      <td>NaN</td>\n",
       "      <td>Skit: Circle Room Talk</td>\n",
       "      <td>rap monster: it was a big hit\\nv: year 2006!\\n...</td>\n",
       "      <td>False</td>\n",
       "      <td>...</td>\n",
       "      <td>1.0</td>\n",
       "      <td>0.802</td>\n",
       "      <td>0.9120</td>\n",
       "      <td>0.000000</td>\n",
       "      <td>0.913</td>\n",
       "      <td>0.817</td>\n",
       "      <td>121.045</td>\n",
       "      <td>3.0</td>\n",
       "      <td>NaN</td>\n",
       "      <td>NaN</td>\n",
       "    </tr>\n",
       "    <tr>\n",
       "      <th>3</th>\n",
       "      <td>BTS-4</td>\n",
       "      <td>2 Cool 4 Skool</td>\n",
       "      <td>2 Cool 4 Skool</td>\n",
       "      <td>2013-06-12</td>\n",
       "      <td>4</td>\n",
       "      <td>No More Dream</td>\n",
       "      <td>NaN</td>\n",
       "      <td>No More Dream</td>\n",
       "      <td>hey, what's your dream?\\n hey, what's your dre...</td>\n",
       "      <td>False</td>\n",
       "      <td>...</td>\n",
       "      <td>1.0</td>\n",
       "      <td>0.470</td>\n",
       "      <td>0.0118</td>\n",
       "      <td>0.000002</td>\n",
       "      <td>0.431</td>\n",
       "      <td>0.594</td>\n",
       "      <td>167.898</td>\n",
       "      <td>4.0</td>\n",
       "      <td>NaN</td>\n",
       "      <td>NaN</td>\n",
       "    </tr>\n",
       "    <tr>\n",
       "      <th>4</th>\n",
       "      <td>BTS-5</td>\n",
       "      <td>2 Cool 4 Skool</td>\n",
       "      <td>2 Cool 4 Skool</td>\n",
       "      <td>2013-06-12</td>\n",
       "      <td>5</td>\n",
       "      <td>Interlude</td>\n",
       "      <td>NaN</td>\n",
       "      <td>Interlude</td>\n",
       "      <td>NaN</td>\n",
       "      <td>False</td>\n",
       "      <td>...</td>\n",
       "      <td>0.0</td>\n",
       "      <td>0.319</td>\n",
       "      <td>0.4940</td>\n",
       "      <td>0.762000</td>\n",
       "      <td>0.392</td>\n",
       "      <td>0.854</td>\n",
       "      <td>125.897</td>\n",
       "      <td>4.0</td>\n",
       "      <td>NaN</td>\n",
       "      <td>NaN</td>\n",
       "    </tr>\n",
       "  </tbody>\n",
       "</table>\n",
       "<p>5 rows × 34 columns</p>\n",
       "</div>"
      ],
      "text/plain": [
       "      id     album_title eng_album_title    album_rd  album_seq  \\\n",
       "0  BTS-1  2 Cool 4 Skool  2 Cool 4 Skool  2013-06-12          1   \n",
       "1  BTS-2  2 Cool 4 Skool  2 Cool 4 Skool  2013-06-12          2   \n",
       "2  BTS-3  2 Cool 4 Skool  2 Cool 4 Skool  2013-06-12          3   \n",
       "3  BTS-4  2 Cool 4 Skool  2 Cool 4 Skool  2013-06-12          4   \n",
       "4  BTS-5  2 Cool 4 Skool  2 Cool 4 Skool  2013-06-12          5   \n",
       "\n",
       "                           track_title raw_track_title  \\\n",
       "0  Intro: 2 Cool 4 Skool (ft. DJ Friz)             NaN   \n",
       "1             We Are Bulletproof Pt.2              NaN   \n",
       "2              Skit: Circle Room Talk              NaN   \n",
       "3                       No More Dream              NaN   \n",
       "4                            Interlude             NaN   \n",
       "\n",
       "                       eng_track_title  \\\n",
       "0  Intro: 2 Cool 4 Skool (ft. DJ Friz)   \n",
       "1              We Are Bulletproof Pt.2   \n",
       "2               Skit: Circle Room Talk   \n",
       "3                        No More Dream   \n",
       "4                            Interlude   \n",
       "\n",
       "                                              lyrics  hidden_track  ...  \\\n",
       "0  we're now going to progress to some steps\\nwhi...         False  ...   \n",
       "1  (what) give it to me\\n (what) be nervous\\n (wh...         False  ...   \n",
       "2  rap monster: it was a big hit\\nv: year 2006!\\n...         False  ...   \n",
       "3  hey, what's your dream?\\n hey, what's your dre...         False  ...   \n",
       "4                                                NaN         False  ...   \n",
       "\n",
       "   spotify_track_mode spotify_track_speechiness spotify_track_acousticness  \\\n",
       "0                 1.0                     0.245                     0.1790   \n",
       "1                 0.0                     0.160                     0.0104   \n",
       "2                 1.0                     0.802                     0.9120   \n",
       "3                 1.0                     0.470                     0.0118   \n",
       "4                 0.0                     0.319                     0.4940   \n",
       "\n",
       "   spotify_track_instrumentalness spotify_track_liveness  \\\n",
       "0                        0.266000                  0.179   \n",
       "1                        0.000006                  0.134   \n",
       "2                        0.000000                  0.913   \n",
       "3                        0.000002                  0.431   \n",
       "4                        0.762000                  0.392   \n",
       "\n",
       "   spotify_track_valence  spotify_track_tempo spotify_track_time_signature  \\\n",
       "0                  0.532               94.871                          4.0   \n",
       "1                  0.868              144.020                          4.0   \n",
       "2                  0.817              121.045                          3.0   \n",
       "3                  0.594              167.898                          4.0   \n",
       "4                  0.854              125.897                          4.0   \n",
       "\n",
       "   eng_lyrics_source_url eng_lyrics_credits  \n",
       "0                    NaN                NaN  \n",
       "1                    NaN                NaN  \n",
       "2                    NaN                NaN  \n",
       "3                    NaN                NaN  \n",
       "4                    NaN                NaN  \n",
       "\n",
       "[5 rows x 34 columns]"
      ]
     },
     "execution_count": 132,
     "metadata": {},
     "output_type": "execute_result"
    }
   ],
   "source": [
    "spotify_data = pd.read_csv(\"original/bts_spotify_data.csv\", encoding='utf-16le')\n",
    "spotify_data.head()"
   ]
  },
  {
   "cell_type": "markdown",
   "metadata": {},
   "source": [
    "## **Data Cleaning**\n",
    "\n",
    "- Standardize formats (e.g., age as numeric, text fields as lowercase).\n",
    "    - Formating cvs files(remove, remane columns).\n",
    "    - Convert all text to lowercase.\n",
    "    - Strip leading/trailing whitespace from text.\n",
    "    - Create new cvs file with updated data.\n",
    "- Handle missing values.\n",
    "    - Count how many missing values.\n",
    "    - Replace them with \"no data\""
   ]
  },
  {
   "cell_type": "markdown",
   "metadata": {},
   "source": [
    "**Formating <u>bts_survey_data.cvs</u> file**\n",
    "1. Remove first column with time when survey was taken.\n",
    "2. Rename columns with appopriate names"
   ]
  },
  {
   "cell_type": "markdown",
   "metadata": {},
   "source": [
    "*Remove first column*"
   ]
  },
  {
   "cell_type": "code",
   "execution_count": 138,
   "metadata": {},
   "outputs": [],
   "source": [
    "survey_data_updated = survey_data.iloc[:, 1:] "
   ]
  },
  {
   "cell_type": "markdown",
   "metadata": {},
   "source": [
    "*Remane columns*"
   ]
  },
  {
   "cell_type": "code",
   "execution_count": 139,
   "metadata": {},
   "outputs": [],
   "source": [
    "new_column_names = {\n",
    "    \"What is your age?\": \"Age\",\n",
    "    \"What is your gender?\": \"Gender\",\n",
    "    \"What country are you from?\": \"Country\",\n",
    "    \"How often do you listen to BTS music?\": \"BTS_Listening_Freq\",\n",
    "    \"How many hours per day do you listen to music?\": \"Daily_Music_Hours\",\n",
    "    \"What is your primary music streaming service?\":\"Streaming_Service\",\n",
    "    \"What is your favorite BTS song?\":\"Favorite_Song\",\n",
    "    \"On a scale of 0-10, how would you rate your current level of anxiety?\":\"Anxiety_Level\",\n",
    "    \"On a scale of 0-10, how would you rate your current level of depression? \": \"Depression_Level\",\n",
    "    \"On a scale of 0-10, how would you rate your current level of stress?\":\"Stress_Level\",\n",
    "    \"How often do you feel lonely?\":\"Loneliness_Rating\",\n",
    "    \"How often do you feel sad?\":\"Sadness_Rating\",\n",
    "    \"How does listening to BTS music affect your mood?\":\"BTS_Mood_Impact\",\n",
    "    \"Do you use BTS music as a coping mechanism for stress or anxiety?\":\"BTS_Stress_Management\",\n",
    "    \"Do you believe that BTS music has improved your mental health?\":\"BTS_Mental_Health_Impact\",\n",
    "    \"If yes, please explain how (optional)\":\"BTS_Impact_Explanation\",\n",
    "    \"What themes in BTS's music resonate with you the most?\":\"Themes\",\n",
    "    \"Are you a part of BTS fandom (ARMY)?\":\"ARMY_Membership\",\n",
    "    \"How has being part of the BTS fandom (ARMY) impacted your mental health?\":\"ARMY_Fandom_MH_Impact\",\n",
    "    \"Do you discuss BTS music and its impact on mental health with others?\":\"Health_Talk_with_Friends\",\n",
    "    \"Is there anything else you would like to share about your experience with BTS music and its impact on your mental health?\":\"Additional_BTS_Impact\"\n",
    "}\n",
    "survey_data_updated.rename(columns=new_column_names, inplace=True)"
   ]
  },
  {
   "cell_type": "code",
   "execution_count": 140,
   "metadata": {},
   "outputs": [
    {
     "name": "stdout",
     "output_type": "stream",
     "text": [
      "Index(['Age', 'Gender', 'Country', 'BTS_Listening_Freq', 'Daily_Music_Hours',\n",
      "       'Streaming_Service', 'Favorite_Song', 'Anxiety_Level',\n",
      "       'Depression_Level', 'Stress_Level', 'Loneliness_Rating',\n",
      "       'Sadness_Rating', 'BTS_Mood_Impact', 'BTS_Stress_Management',\n",
      "       'BTS_Mental_Health_Impact', 'BTS_Impact_Explanation', 'Themes',\n",
      "       'ARMY_Membership', 'ARMY_Fandom_MH_Impact', 'Health_Talk_with_Friends',\n",
      "       'Additional_BTS_Impact'],\n",
      "      dtype='object')\n"
     ]
    }
   ],
   "source": [
    "print(survey_data_updated.columns)"
   ]
  },
  {
   "cell_type": "markdown",
   "metadata": {},
   "source": [
    "*Convert all text to lowercase*"
   ]
  },
  {
   "cell_type": "code",
   "execution_count": 141,
   "metadata": {},
   "outputs": [],
   "source": [
    "survey_data_updated['Gender'] = survey_data_updated['Gender'].str.lower()\n",
    "survey_data_updated['Country'] = survey_data_updated['Country'].str.lower()\n",
    "survey_data_updated['Streaming_Service'] = survey_data_updated['Streaming_Service'].str.lower()\n",
    "survey_data_updated['Favorite_Song'] = survey_data_updated['Favorite_Song'].str.lower()\n",
    "survey_data_updated['BTS_Impact_Explanation'] = survey_data_updated['BTS_Impact_Explanation'].str.lower()\n",
    "survey_data_updated['Themes'] = survey_data_updated['Themes'].str.lower()\n",
    "survey_data_updated['ARMY_Fandom_MH_Impact'] = survey_data_updated['ARMY_Fandom_MH_Impact'].str.lower()\n",
    "survey_data_updated['Additional_BTS_Impact'] = survey_data_updated['Additional_BTS_Impact'].str.lower()\n",
    "survey_data_updated['BTS_Stress_Management'] = survey_data_updated['BTS_Stress_Management'].str.lower()\n",
    "survey_data_updated['BTS_Mental_Health_Impact'] = survey_data_updated['BTS_Mental_Health_Impact'].str.lower()\n",
    "survey_data_updated['ARMY_Membership'] = survey_data_updated['ARMY_Membership'].str.lower()\n",
    "survey_data_updated['Health_Talk_with_Friends'] = survey_data_updated['Health_Talk_with_Friends'].str.lower()"
   ]
  },
  {
   "cell_type": "code",
   "execution_count": 142,
   "metadata": {},
   "outputs": [
    {
     "name": "stdout",
     "output_type": "stream",
     "text": [
      "  Age  Gender                                            Country  \\\n",
      "0  19  female                                            ukraine   \n",
      "1  16  female                                              india   \n",
      "2  19  female                                              india   \n",
      "3  15  female  maryland united state of america, and fuzhou c...   \n",
      "4  17    male                                      north america   \n",
      "\n",
      "   BTS_Listening_Freq  Daily_Music_Hours       Streaming_Service  \\\n",
      "0                 4.0                  5                 spotify   \n",
      "1                 5.0                  3  spotify, youtube music   \n",
      "2                 5.0                  3  spotify, youtube music   \n",
      "3                 5.0                  5                 spotify   \n",
      "4                 5.0                  5                 spotify   \n",
      "\n",
      "                                       Favorite_Song  Anxiety_Level  \\\n",
      "0                                          not today              6   \n",
      "1                                       boy with luv              8   \n",
      "2                                      zero o clock               3   \n",
      "3  no more dreams, spring days, and permission to...              1   \n",
      "4                                           i need u              4   \n",
      "\n",
      "   Depression_Level  Stress_Level  ...  Sadness_Rating  BTS_Mood_Impact  \\\n",
      "0                 2             7  ...               2                5   \n",
      "1                 8             6  ...               4                5   \n",
      "2                 0             2  ...               1                5   \n",
      "3                 2             2  ...               1                5   \n",
      "4                 2             2  ...               1                5   \n",
      "\n",
      "   BTS_Stress_Management BTS_Mental_Health_Impact  \\\n",
      "0                    yes                      yes   \n",
      "1                    yes             i don't know   \n",
      "2                    yes                      yes   \n",
      "3           i don't know             i don't know   \n",
      "4                     no                      yes   \n",
      "\n",
      "                              BTS_Impact_Explanation  \\\n",
      "0  it gives me more confidence and i do not feel ...   \n",
      "1                                                NaN   \n",
      "2  when covid hit, i was already in deep depressi...   \n",
      "3  i said idk because i listened to bts since 4th...   \n",
      "4  well.... a lot of their music ive been able to...   \n",
      "\n",
      "                                              Themes ARMY_Membership  \\\n",
      "0                                               cool             yes   \n",
      "1                                      lively themes             yes   \n",
      "2  love yourself for truly who u are, face yourse...             yes   \n",
      "3                                                idk             yes   \n",
      "4  everything, from their music about love to the...             yes   \n",
      "\n",
      "                               ARMY_Fandom_MH_Impact Health_Talk_with_Friends  \\\n",
      "0  army is very strong fandom. they will anything...                      yes   \n",
      "1       it helped me gain confidence and stay happy                       yes   \n",
      "2  very much in a positive way.like whenever i fe...                      yes   \n",
      "3                                                idk                       no   \n",
      "4                            honestly, a good amount                       no   \n",
      "\n",
      "                               Additional_BTS_Impact  \n",
      "0                                       bts forever💜  \n",
      "1                                                 no  \n",
      "2  i have already shared everything..i think youn...  \n",
      "3                  i love bts and they make me happy  \n",
      "4                                      no, thats all  \n",
      "\n",
      "[5 rows x 21 columns]\n"
     ]
    }
   ],
   "source": [
    "print(survey_data_updated.head())"
   ]
  },
  {
   "cell_type": "markdown",
   "metadata": {},
   "source": [
    "*Remove extra spaces at the beginning and end*"
   ]
  },
  {
   "cell_type": "code",
   "execution_count": 143,
   "metadata": {},
   "outputs": [
    {
     "name": "stderr",
     "output_type": "stream",
     "text": [
      "/tmp/ipykernel_621/197381687.py:1: FutureWarning: DataFrame.applymap has been deprecated. Use DataFrame.map instead.\n",
      "  survey_data_updated = survey_data_updated.applymap(lambda x: x.strip() if isinstance(x, str) else x)\n"
     ]
    }
   ],
   "source": [
    "survey_data_updated = survey_data_updated.applymap(lambda x: x.strip() if isinstance(x, str) else x)"
   ]
  },
  {
   "cell_type": "markdown",
   "metadata": {},
   "source": [
    "*Count missing values for each column*"
   ]
  },
  {
   "cell_type": "code",
   "execution_count": 144,
   "metadata": {},
   "outputs": [
    {
     "name": "stdout",
     "output_type": "stream",
     "text": [
      "Age                          1\n",
      "Gender                       0\n",
      "Country                      3\n",
      "BTS_Listening_Freq           1\n",
      "Daily_Music_Hours            0\n",
      "Streaming_Service            0\n",
      "Favorite_Song                1\n",
      "Anxiety_Level                0\n",
      "Depression_Level             0\n",
      "Stress_Level                 0\n",
      "Loneliness_Rating            0\n",
      "Sadness_Rating               0\n",
      "BTS_Mood_Impact              0\n",
      "BTS_Stress_Management        2\n",
      "BTS_Mental_Health_Impact     0\n",
      "BTS_Impact_Explanation      26\n",
      "Themes                       7\n",
      "ARMY_Membership              0\n",
      "ARMY_Fandom_MH_Impact       14\n",
      "Health_Talk_with_Friends     0\n",
      "Additional_BTS_Impact       32\n",
      "dtype: int64\n"
     ]
    }
   ],
   "source": [
    "print(survey_data_updated.isna().sum())"
   ]
  },
  {
   "cell_type": "markdown",
   "metadata": {},
   "source": [
    "*Replace missing values with \"no data\"*"
   ]
  },
  {
   "cell_type": "code",
   "execution_count": 145,
   "metadata": {},
   "outputs": [],
   "source": [
    "survey_data_updated = survey_data_updated.astype(str)\n",
    "\n",
    "survey_data_updated.replace([\"nan\"], \"no data\", inplace=True)\n"
   ]
  },
  {
   "cell_type": "code",
   "execution_count": 146,
   "metadata": {},
   "outputs": [
    {
     "name": "stdout",
     "output_type": "stream",
     "text": [
      "Age                         0\n",
      "Gender                      0\n",
      "Country                     0\n",
      "BTS_Listening_Freq          0\n",
      "Daily_Music_Hours           0\n",
      "Streaming_Service           0\n",
      "Favorite_Song               0\n",
      "Anxiety_Level               0\n",
      "Depression_Level            0\n",
      "Stress_Level                0\n",
      "Loneliness_Rating           0\n",
      "Sadness_Rating              0\n",
      "BTS_Mood_Impact             0\n",
      "BTS_Stress_Management       0\n",
      "BTS_Mental_Health_Impact    0\n",
      "BTS_Impact_Explanation      0\n",
      "Themes                      0\n",
      "ARMY_Membership             0\n",
      "ARMY_Fandom_MH_Impact       0\n",
      "Health_Talk_with_Friends    0\n",
      "Additional_BTS_Impact       0\n",
      "dtype: int64\n"
     ]
    }
   ],
   "source": [
    "print(survey_data_updated.isna().sum())"
   ]
  },
  {
   "cell_type": "markdown",
   "metadata": {},
   "source": [
    "*Check the result for replace empty strings*"
   ]
  },
  {
   "cell_type": "code",
   "execution_count": 147,
   "metadata": {},
   "outputs": [
    {
     "name": "stdout",
     "output_type": "stream",
     "text": [
      "Age                                             22\n",
      "Gender                                      female\n",
      "Country                                    no data\n",
      "BTS_Listening_Freq                             5.0\n",
      "Daily_Music_Hours                                4\n",
      "Streaming_Service           spotify, youtube music\n",
      "Favorite_Song                         crystal snow\n",
      "Anxiety_Level                                    6\n",
      "Depression_Level                                 2\n",
      "Stress_Level                                     3\n",
      "Loneliness_Rating                                3\n",
      "Sadness_Rating                                   4\n",
      "BTS_Mood_Impact                                  5\n",
      "BTS_Stress_Management                          yes\n",
      "BTS_Mental_Health_Impact                       yes\n",
      "BTS_Impact_Explanation                     no data\n",
      "Themes                                     no data\n",
      "ARMY_Membership                                yes\n",
      "ARMY_Fandom_MH_Impact                      no data\n",
      "Health_Talk_with_Friends                        no\n",
      "Additional_BTS_Impact                      no data\n",
      "Name: 17, dtype: object\n"
     ]
    }
   ],
   "source": [
    "print(survey_data_updated.iloc[17])"
   ]
  },
  {
   "cell_type": "markdown",
   "metadata": {},
   "source": [
    "*Create a new filtered cvs file*"
   ]
  },
  {
   "cell_type": "code",
   "execution_count": 148,
   "metadata": {},
   "outputs": [],
   "source": [
    "survey_data_updated.to_csv(\"survey_data.csv\")"
   ]
  },
  {
   "cell_type": "markdown",
   "metadata": {},
   "source": [
    "**Formating <u>bts_spotify_data.cvs</u> file**\n",
    "1. Remove unnecessary columns\n",
    "2. Handle missing values"
   ]
  },
  {
   "cell_type": "markdown",
   "metadata": {},
   "source": [
    "*Print and remove columns that need to be removed as it does not has important information for the project.*"
   ]
  },
  {
   "cell_type": "code",
   "execution_count": null,
   "metadata": {},
   "outputs": [
    {
     "name": "stdout",
     "output_type": "stream",
     "text": [
      "Columns to be removed:\n",
      "Index(['raw_track_title', 'hidden_track', 'remix', 'featured', 'repackaged',\n",
      "       'has_full_ver', 'is_alt_lang_ver', 'eng_lyrics_source_url',\n",
      "       'eng_lyrics_credits'],\n",
      "      dtype='object')\n"
     ]
    }
   ],
   "source": [
    "columns_to_remove = [6, 9, 10, 11, 13, 15, 16, 32, 33]\n",
    "\n",
    "columns_to_remove_names = spotify_data.columns[columns_to_remove]\n",
    "print(\"Columns to be removed:\")\n",
    "print(columns_to_remove_names)"
   ]
  },
  {
   "cell_type": "code",
   "execution_count": null,
   "metadata": {},
   "outputs": [],
   "source": [
    "spotify_data_updated = spotify_data.drop(columns_to_remove_names, axis=1)"
   ]
  },
  {
   "cell_type": "markdown",
   "metadata": {},
   "source": [
    "*Format all text to lowercase*"
   ]
  },
  {
   "cell_type": "code",
   "execution_count": 129,
   "metadata": {},
   "outputs": [],
   "source": [
    "spotify_data_updated['album_title'] = spotify_data_updated['album_title'].str.lower()\n",
    "spotify_data_updated['eng_album_title'] = spotify_data_updated['eng_album_title'].str.lower()\n",
    "spotify_data_updated['eng_track_title'] = spotify_data_updated['eng_track_title'].str.lower()\n",
    "spotify_data_updated['lyrics'] = spotify_data_updated['lyrics'].str.lower()"
   ]
  },
  {
   "cell_type": "markdown",
   "metadata": {},
   "source": [
    "*Remove spaces at the beggining and end*"
   ]
  },
  {
   "cell_type": "code",
   "execution_count": 130,
   "metadata": {},
   "outputs": [
    {
     "name": "stderr",
     "output_type": "stream",
     "text": [
      "/tmp/ipykernel_621/1879410504.py:1: FutureWarning: DataFrame.applymap has been deprecated. Use DataFrame.map instead.\n",
      "  spotify_data_updated = spotify_data_updated.applymap(lambda x: x.strip() if isinstance(x, str) else x)\n"
     ]
    }
   ],
   "source": [
    "spotify_data_updated = spotify_data_updated.applymap(lambda x: x.strip() if isinstance(x, str) else x)"
   ]
  },
  {
   "cell_type": "markdown",
   "metadata": {},
   "source": [
    "*Count missing/empty values in the dataset*"
   ]
  },
  {
   "cell_type": "code",
   "execution_count": 119,
   "metadata": {},
   "outputs": [
    {
     "name": "stdout",
     "output_type": "stream",
     "text": [
      "id                                 0\n",
      "album_title                        0\n",
      "eng_album_title                    0\n",
      "album_rd                           0\n",
      "album_seq                          0\n",
      "track_title                        0\n",
      "eng_track_title                    0\n",
      "lyrics                            31\n",
      "performed_by                      23\n",
      "lang                              22\n",
      "spotify_album_id                  23\n",
      "spotify_track_duration_ms         23\n",
      "spotify_track_id                  23\n",
      "spotify_track_danceability        23\n",
      "spotify_track_energy              23\n",
      "spotify_track_key                 23\n",
      "spotify_track_loudness            23\n",
      "spotify_track_mode                23\n",
      "spotify_track_speechiness         23\n",
      "spotify_track_acousticness        23\n",
      "spotify_track_instrumentalness    23\n",
      "spotify_track_liveness            23\n",
      "spotify_track_valence             23\n",
      "spotify_track_tempo               23\n",
      "spotify_track_time_signature      23\n",
      "dtype: int64\n"
     ]
    }
   ],
   "source": [
    "print(spotify_data_updated.isna().sum())"
   ]
  },
  {
   "cell_type": "markdown",
   "metadata": {},
   "source": [
    "*Replace missing values with \"no data\"*"
   ]
  },
  {
   "cell_type": "code",
   "execution_count": 120,
   "metadata": {},
   "outputs": [],
   "source": [
    "spotify_data_updated = spotify_data_updated.astype(str)\n",
    "\n",
    "spotify_data_updated.replace([\"nan\"], \"no data\", inplace=True)"
   ]
  },
  {
   "cell_type": "code",
   "execution_count": 121,
   "metadata": {},
   "outputs": [
    {
     "name": "stdout",
     "output_type": "stream",
     "text": [
      "id                                0\n",
      "album_title                       0\n",
      "eng_album_title                   0\n",
      "album_rd                          0\n",
      "album_seq                         0\n",
      "track_title                       0\n",
      "eng_track_title                   0\n",
      "lyrics                            0\n",
      "performed_by                      0\n",
      "lang                              0\n",
      "spotify_album_id                  0\n",
      "spotify_track_duration_ms         0\n",
      "spotify_track_id                  0\n",
      "spotify_track_danceability        0\n",
      "spotify_track_energy              0\n",
      "spotify_track_key                 0\n",
      "spotify_track_loudness            0\n",
      "spotify_track_mode                0\n",
      "spotify_track_speechiness         0\n",
      "spotify_track_acousticness        0\n",
      "spotify_track_instrumentalness    0\n",
      "spotify_track_liveness            0\n",
      "spotify_track_valence             0\n",
      "spotify_track_tempo               0\n",
      "spotify_track_time_signature      0\n",
      "dtype: int64\n"
     ]
    }
   ],
   "source": [
    "print(spotify_data_updated.isna().sum())"
   ]
  },
  {
   "cell_type": "markdown",
   "metadata": {},
   "source": [
    "*Check the result*"
   ]
  },
  {
   "cell_type": "code",
   "execution_count": 123,
   "metadata": {},
   "outputs": [
    {
     "name": "stdout",
     "output_type": "stream",
     "text": [
      "id                                                                            BTS-9\n",
      "album_title                                                          2 Cool 4 Skool\n",
      "eng_album_title                                                      2 Cool 4 Skool\n",
      "album_rd                                                                 2013-06-12\n",
      "album_seq                                                                         9\n",
      "track_title                                                           길 (Road/Path)\n",
      "eng_track_title                                                           Road/Path\n",
      "lyrics                            yeah, wassup\\nyou know, time flows like stars\\...\n",
      "performed_by                                                                    BTS\n",
      "lang                                                                            KOR\n",
      "spotify_album_id                                                            no data\n",
      "spotify_track_duration_ms                                                   no data\n",
      "spotify_track_id                                                            no data\n",
      "spotify_track_danceability                                                  no data\n",
      "spotify_track_energy                                                        no data\n",
      "spotify_track_key                                                           no data\n",
      "spotify_track_loudness                                                      no data\n",
      "spotify_track_mode                                                          no data\n",
      "spotify_track_speechiness                                                   no data\n",
      "spotify_track_acousticness                                                  no data\n",
      "spotify_track_instrumentalness                                              no data\n",
      "spotify_track_liveness                                                      no data\n",
      "spotify_track_valence                                                       no data\n",
      "spotify_track_tempo                                                         no data\n",
      "spotify_track_time_signature                                                no data\n",
      "Name: 8, dtype: object\n"
     ]
    }
   ],
   "source": [
    "print(spotify_data_updated.iloc[8])"
   ]
  },
  {
   "cell_type": "markdown",
   "metadata": {},
   "source": [
    "*Create a new dataset with updated data*"
   ]
  },
  {
   "cell_type": "code",
   "execution_count": 131,
   "metadata": {},
   "outputs": [],
   "source": [
    "spotify_data_updated.to_csv('spotify_data.csv', index=False)"
   ]
  },
  {
   "cell_type": "markdown",
   "metadata": {},
   "source": [
    "## **Data Integration**\n",
    "\n",
    "Merge Spotify and survey datasets using track_title."
   ]
  },
  {
   "cell_type": "code",
   "execution_count": 137,
   "metadata": {},
   "outputs": [
    {
     "name": "stdout",
     "output_type": "stream",
     "text": [
      "  Age  Gender  Country BTS_Listening_Freq Daily_Music_Hours  \\\n",
      "0  19  Female  Ukraine                4.0                 5   \n",
      "1  20  Female      USA                5.0                 4   \n",
      "2  20  Female      USA                5.0                 4   \n",
      "3  19  Female      USA                5.0                 5   \n",
      "4  32    Male  belgium                2.0                 5   \n",
      "\n",
      "        Streaming_Service Favorite_Song Anxiety_Level Depression_Level  \\\n",
      "0                 Spotify     Not Today             6                2   \n",
      "1                 Spotify       Ma City             8                2   \n",
      "2                 Spotify       Ma City             8                2   \n",
      "3  Spotify, YouTube Music    Black Swan             8                8   \n",
      "4           YouTube Music      Dionysus             1                4   \n",
      "\n",
      "  Stress_Level  ... spotify_track_key spotify_track_loudness  \\\n",
      "0            7  ...               8.0                 -3.408   \n",
      "1            9  ...               6.0                 -2.192   \n",
      "2            9  ...               6.0                 -2.155   \n",
      "3           10  ...               2.0                 -5.167   \n",
      "4            2  ...               7.0                 -2.769   \n",
      "\n",
      "  spotify_track_mode spotify_track_speechiness spotify_track_acousticness  \\\n",
      "0                1.0                     0.126                    0.00174   \n",
      "1                0.0                    0.0957                   0.000266   \n",
      "2                0.0                    0.0989                   0.000264   \n",
      "3                0.0                    0.0849                      0.137   \n",
      "4                1.0                     0.107                       0.04   \n",
      "\n",
      "  spotify_track_instrumentalness spotify_track_liveness spotify_track_valence  \\\n",
      "0                            0.0                  0.923                 0.674   \n",
      "1                            0.0                 0.0777                 0.807   \n",
      "2                            0.0                 0.0548                 0.783   \n",
      "3                            0.0                  0.129                 0.489   \n",
      "4                            0.0                  0.319                 0.588   \n",
      "\n",
      "  spotify_track_tempo spotify_track_time_signature  \n",
      "0             110.023                          4.0  \n",
      "1             122.007                          4.0  \n",
      "2             122.017                          4.0  \n",
      "3             147.024                          4.0  \n",
      "4             176.084                          4.0  \n",
      "\n",
      "[5 rows x 46 columns]\n"
     ]
    }
   ],
   "source": [
    "merged_data = pd.merge(survey_data_updated, spotify_data_updated, left_on='Favorite_Song', right_on='track_title', how='inner')\n",
    "\n",
    "print(merged_data.head())"
   ]
  }
 ],
 "metadata": {
  "kernelspec": {
   "display_name": "Python 3",
   "language": "python",
   "name": "python3"
  },
  "language_info": {
   "codemirror_mode": {
    "name": "ipython",
    "version": 3
   },
   "file_extension": ".py",
   "mimetype": "text/x-python",
   "name": "python",
   "nbconvert_exporter": "python",
   "pygments_lexer": "ipython3",
   "version": "3.12.6"
  }
 },
 "nbformat": 4,
 "nbformat_minor": 2
}
