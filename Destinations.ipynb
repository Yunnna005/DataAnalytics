{
 "cells": [
  {
   "cell_type": "markdown",
   "metadata": {},
   "source": [
    "# Introduction\n",
    "This analysis explores trends within a dataset of European tour destinations, focusing on popular locations, tourist preferences, and seasonal patterns. By examining key data such as destination names, tourist numbers, and visit times, we aim to uncover insights that can inform tourism strategies and enhance traveler experiences.\n"
   ]
  },
  {
   "cell_type": "markdown",
   "metadata": {},
   "source": [
    ">  Importing essential libraries\n",
    "- **pandas (pd)**: data manipulation and analysis, used to handle structured data like tables (DataFrames).\n",
    "- **numpy (np)**: numerical computing, offering support for arrays, mathematical operations, and data manipulation.\n",
    "- **matplotlib (plt)**: creating static, interactive, and animated visualizations like bar charts, line graphs, and histograms.\n",
    "- **seaborn (sns)**: A data visualization library built on top of matplotlib, providing easy-to-use functions for creating aesthetically pleasing statistical plots."
   ]
  },
  {
   "cell_type": "code",
   "execution_count": 1,
   "metadata": {},
   "outputs": [],
   "source": [
    "import pandas as pd\n",
    "import numpy as np\n",
    "import matplotlib.pyplot as plt\n",
    "import seaborn as sns"
   ]
  },
  {
   "cell_type": "markdown",
   "metadata": {},
   "source": [
    "> Load and Preview Data"
   ]
  },
  {
   "cell_type": "code",
   "execution_count": 2,
   "metadata": {},
   "outputs": [
    {
     "data": {
      "text/html": [
       "<div>\n",
       "<style scoped>\n",
       "    .dataframe tbody tr th:only-of-type {\n",
       "        vertical-align: middle;\n",
       "    }\n",
       "\n",
       "    .dataframe tbody tr th {\n",
       "        vertical-align: top;\n",
       "    }\n",
       "\n",
       "    .dataframe thead th {\n",
       "        text-align: right;\n",
       "    }\n",
       "</style>\n",
       "<table border=\"1\" class=\"dataframe\">\n",
       "  <thead>\n",
       "    <tr style=\"text-align: right;\">\n",
       "      <th></th>\n",
       "      <th>Destination</th>\n",
       "      <th>Region</th>\n",
       "      <th>Country</th>\n",
       "      <th>Category</th>\n",
       "      <th>Latitude</th>\n",
       "      <th>Longitude</th>\n",
       "      <th>Approximate Annual Tourists</th>\n",
       "      <th>Currency</th>\n",
       "      <th>Majority Religion</th>\n",
       "      <th>Famous Foods</th>\n",
       "      <th>Language</th>\n",
       "      <th>Best Time to Visit</th>\n",
       "      <th>Cost of Living</th>\n",
       "      <th>Safety</th>\n",
       "      <th>Cultural Significance</th>\n",
       "      <th>Description</th>\n",
       "    </tr>\n",
       "  </thead>\n",
       "  <tbody>\n",
       "    <tr>\n",
       "      <th>0</th>\n",
       "      <td>Rome</td>\n",
       "      <td>Lazio</td>\n",
       "      <td>Italy</td>\n",
       "      <td>City</td>\n",
       "      <td>41.902782</td>\n",
       "      <td>12.496366</td>\n",
       "      <td>14 million</td>\n",
       "      <td>Euro</td>\n",
       "      <td>Roman Catholic</td>\n",
       "      <td>Pizza, Pasta, Gelato</td>\n",
       "      <td>Italian</td>\n",
       "      <td>Spring (April-May) or Fall (Sept-Oct)</td>\n",
       "      <td>Medium-high</td>\n",
       "      <td>Generally safe, but watch out for pickpockets</td>\n",
       "      <td>The capital city, known for its historical lan...</td>\n",
       "      <td>A hub of ancient history and modern culture, w...</td>\n",
       "    </tr>\n",
       "    <tr>\n",
       "      <th>1</th>\n",
       "      <td>Florence</td>\n",
       "      <td>Tuscany</td>\n",
       "      <td>Italy</td>\n",
       "      <td>City</td>\n",
       "      <td>43.769581</td>\n",
       "      <td>11.255772</td>\n",
       "      <td>10 million</td>\n",
       "      <td>Euro</td>\n",
       "      <td>Roman Catholic</td>\n",
       "      <td>Pizza, Pasta, Gelato</td>\n",
       "      <td>Italian</td>\n",
       "      <td>Spring (April-May) or Fall (Sept-Oct)</td>\n",
       "      <td>Medium-high</td>\n",
       "      <td>Generally safe, but watch out for pickpockets</td>\n",
       "      <td>A Renaissance city famous for its art, archite...</td>\n",
       "      <td>Home to world-class museums, including the Uff...</td>\n",
       "    </tr>\n",
       "    <tr>\n",
       "      <th>2</th>\n",
       "      <td>Venice</td>\n",
       "      <td>Veneto</td>\n",
       "      <td>Italy</td>\n",
       "      <td>City</td>\n",
       "      <td>45.435559</td>\n",
       "      <td>12.336196</td>\n",
       "      <td>10 million</td>\n",
       "      <td>Euro</td>\n",
       "      <td>Roman Catholic</td>\n",
       "      <td>Pizza, Pasta, Gelato</td>\n",
       "      <td>Italian</td>\n",
       "      <td>Spring (April-May) or Fall (Sept-Oct)</td>\n",
       "      <td>Medium-high</td>\n",
       "      <td>Generally safe, but watch out for pickpockets</td>\n",
       "      <td>A unique city built on canals, known for its g...</td>\n",
       "      <td>An iconic city of water, renowned for romantic...</td>\n",
       "    </tr>\n",
       "    <tr>\n",
       "      <th>3</th>\n",
       "      <td>Milan</td>\n",
       "      <td>Lombardy</td>\n",
       "      <td>Italy</td>\n",
       "      <td>City</td>\n",
       "      <td>45.464643</td>\n",
       "      <td>9.188540</td>\n",
       "      <td>7 million</td>\n",
       "      <td>Euro</td>\n",
       "      <td>Roman Catholic</td>\n",
       "      <td>Risotto, Ossobuco, Panettone</td>\n",
       "      <td>Italian</td>\n",
       "      <td>Spring (April-May) or Fall (Sept-Oct)</td>\n",
       "      <td>High</td>\n",
       "      <td>Generally safe, but watch out for pickpockets</td>\n",
       "      <td>A fashion capital known for its shopping, muse...</td>\n",
       "      <td>A modern city with an ancient soul, featuring ...</td>\n",
       "    </tr>\n",
       "    <tr>\n",
       "      <th>4</th>\n",
       "      <td>Naples</td>\n",
       "      <td>Campania</td>\n",
       "      <td>Italy</td>\n",
       "      <td>City</td>\n",
       "      <td>40.851330</td>\n",
       "      <td>14.254720</td>\n",
       "      <td>5 million</td>\n",
       "      <td>Euro</td>\n",
       "      <td>Roman Catholic</td>\n",
       "      <td>Pizza, Pasta, Cannoli</td>\n",
       "      <td>Italian</td>\n",
       "      <td>Spring (April-May) or Fall (Sept-Oct)</td>\n",
       "      <td>Medium</td>\n",
       "      <td>Generally safe, but be aware of pickpockets</td>\n",
       "      <td>A vibrant city known for its delicious food, h...</td>\n",
       "      <td>Famous for pizza, Pompeii, and proximity to th...</td>\n",
       "    </tr>\n",
       "  </tbody>\n",
       "</table>\n",
       "</div>"
      ],
      "text/plain": [
       "  Destination    Region Country Category   Latitude  Longitude  \\\n",
       "0        Rome     Lazio   Italy     City  41.902782  12.496366   \n",
       "1    Florence   Tuscany   Italy     City  43.769581  11.255772   \n",
       "2      Venice    Veneto   Italy     City  45.435559  12.336196   \n",
       "3       Milan  Lombardy   Italy     City  45.464643   9.188540   \n",
       "4      Naples  Campania   Italy     City  40.851330  14.254720   \n",
       "\n",
       "  Approximate Annual Tourists Currency Majority Religion  \\\n",
       "0                  14 million     Euro    Roman Catholic   \n",
       "1                  10 million     Euro    Roman Catholic   \n",
       "2                  10 million     Euro    Roman Catholic   \n",
       "3                   7 million     Euro    Roman Catholic   \n",
       "4                   5 million     Euro    Roman Catholic   \n",
       "\n",
       "                   Famous Foods Language  \\\n",
       "0          Pizza, Pasta, Gelato  Italian   \n",
       "1          Pizza, Pasta, Gelato  Italian   \n",
       "2          Pizza, Pasta, Gelato  Italian   \n",
       "3  Risotto, Ossobuco, Panettone  Italian   \n",
       "4         Pizza, Pasta, Cannoli  Italian   \n",
       "\n",
       "                      Best Time to Visit Cost of Living  \\\n",
       "0  Spring (April-May) or Fall (Sept-Oct)    Medium-high   \n",
       "1  Spring (April-May) or Fall (Sept-Oct)    Medium-high   \n",
       "2  Spring (April-May) or Fall (Sept-Oct)    Medium-high   \n",
       "3  Spring (April-May) or Fall (Sept-Oct)           High   \n",
       "4  Spring (April-May) or Fall (Sept-Oct)         Medium   \n",
       "\n",
       "                                          Safety  \\\n",
       "0  Generally safe, but watch out for pickpockets   \n",
       "1  Generally safe, but watch out for pickpockets   \n",
       "2  Generally safe, but watch out for pickpockets   \n",
       "3  Generally safe, but watch out for pickpockets   \n",
       "4    Generally safe, but be aware of pickpockets   \n",
       "\n",
       "                               Cultural Significance  \\\n",
       "0  The capital city, known for its historical lan...   \n",
       "1  A Renaissance city famous for its art, archite...   \n",
       "2  A unique city built on canals, known for its g...   \n",
       "3  A fashion capital known for its shopping, muse...   \n",
       "4  A vibrant city known for its delicious food, h...   \n",
       "\n",
       "                                         Description  \n",
       "0  A hub of ancient history and modern culture, w...  \n",
       "1  Home to world-class museums, including the Uff...  \n",
       "2  An iconic city of water, renowned for romantic...  \n",
       "3  A modern city with an ancient soul, featuring ...  \n",
       "4  Famous for pizza, Pompeii, and proximity to th...  "
      ]
     },
     "execution_count": 2,
     "metadata": {},
     "output_type": "execute_result"
    }
   ],
   "source": [
    "df = pd.read_csv('destinations.csv', encoding='latin1')\n",
    "df.head()"
   ]
  },
  {
   "cell_type": "markdown",
   "metadata": {},
   "source": [
    ">Data Cleaning\n",
    ">\n",
    ">1.Identifying and handling missing values.\n",
    ">\n",
    ">2.Removing duplicates."
   ]
  },
  {
   "cell_type": "markdown",
   "metadata": {},
   "source": [
    "**Identifying missing values**"
   ]
  },
  {
   "cell_type": "code",
   "execution_count": 3,
   "metadata": {},
   "outputs": [
    {
     "name": "stdout",
     "output_type": "stream",
     "text": [
      "Destination                     0\n",
      "Region                          0\n",
      "Country                         0\n",
      "Category                        0\n",
      "Latitude                        0\n",
      "Longitude                       0\n",
      "Approximate Annual Tourists     0\n",
      "Currency                        0\n",
      "Majority Religion               0\n",
      "Famous Foods                    0\n",
      "Language                        0\n",
      "Best Time to Visit              0\n",
      "Cost of Living                  0\n",
      "Safety                          0\n",
      "Cultural Significance           0\n",
      "Description                    50\n",
      "dtype: int64\n"
     ]
    }
   ],
   "source": [
    "mask = df['Description'].isna()\n",
    "missingValues = df.isnull().sum()\n",
    "print(missingValues)"
   ]
  },
  {
   "cell_type": "markdown",
   "metadata": {},
   "source": [
    "**Fill missing values with appropriate data**"
   ]
  },
  {
   "cell_type": "code",
   "execution_count": 4,
   "metadata": {},
   "outputs": [],
   "source": [
    "df['Description'] = df['Description'].fillna('No Description Available')"
   ]
  },
  {
   "cell_type": "code",
   "execution_count": 5,
   "metadata": {},
   "outputs": [
    {
     "name": "stdout",
     "output_type": "stream",
     "text": [
      "   Destination               Description\n",
      "90      Athens  No Description Available\n",
      "91   Santorini  No Description Available\n",
      "92     Mykonos  No Description Available\n",
      "93       Crete  No Description Available\n",
      "94      Rhodes  No Description Available\n",
      "95       Corfu  No Description Available\n",
      "96     Meteora  No Description Available\n",
      "97      Delphi  No Description Available\n",
      "98     Nafplio  No Description Available\n",
      "99     Olympia  No Description Available\n"
     ]
    }
   ],
   "source": [
    "changed_rows = df[mask]\n",
    "print(changed_rows[['Destination', 'Description']].head(10))"
   ]
  },
  {
   "cell_type": "markdown",
   "metadata": {},
   "source": [
    "**Removing Dublicates**"
   ]
  },
  {
   "cell_type": "code",
   "execution_count": 6,
   "metadata": {},
   "outputs": [
    {
     "name": "stdout",
     "output_type": "stream",
     "text": [
      "Number of duplicate rows: 0\n"
     ]
    }
   ],
   "source": [
    "duplicate_count = df.duplicated().sum()\n",
    "print(f\"Number of duplicate rows: {duplicate_count}\")"
   ]
  },
  {
   "cell_type": "markdown",
   "metadata": {},
   "source": [
    ">Display Cleaned Data"
   ]
  },
  {
   "cell_type": "code",
   "execution_count": 7,
   "metadata": {},
   "outputs": [
    {
     "name": "stdout",
     "output_type": "stream",
     "text": [
      "+------------------------+----------------+---------+----------+-----------+------------+-----------------------------+---------------------+-------------------+--------------------------------+----------+---------------------------------------+----------------+-----------------------------------------------+--------------------------------------------------------------------------------------+-----------------------------------------------------------------------------+\n",
      "|      Destination       |     Region     | Country | Category | Latitude  | Longitude  | Approximate Annual Tourists |      Currency       | Majority Religion |          Famous Foods          | Language |          Best Time to Visit           | Cost of Living |                    Safety                     |                                Cultural Significance                                 |                                 Description                                 |\n",
      "+------------------------+----------------+---------+----------+-----------+------------+-----------------------------+---------------------+-------------------+--------------------------------+----------+---------------------------------------+----------------+-----------------------------------------------+--------------------------------------------------------------------------------------+-----------------------------------------------------------------------------+\n",
      "|      Golden Ring       | Central Russia | Russia  |  Region  | 56.021562 | 39.624312  |  10 million (region-wide)   | Russian Ruble (RUB) | Russian Orthodox  |    Borscht, Pelmeni, Blini     | Russian  | Spring (May-June) or Fall (Sept-Oct)  |     Medium     |                Generally safe                 |   Group of historic cities known for medieval architecture and cultural heritage.    |       A historic route offering insights into Russia's medieval past.       |\n",
      "| Trans-Siberian Railway |     Russia     | Russia  | Railway  | 56.021562 | 105.624312 |    2 million (tourists)     | Russian Ruble (RUB) | Russian Orthodox  |    Borscht, Pelmeni, Blini     | Russian  |         Summer (June-August)          |  Medium-high   |                Generally safe                 | Famous railway route spanning Russia, known for its scenic and cultural experiences. | An iconic journey showcasing Russia's vast landscapes and diverse cultures. |\n",
      "| St. Basil's Cathedral  |     Moscow     | Russia  |  Church  | 55.755796 | 37.617315  |          2 million          | Russian Ruble (RUB) | Russian Orthodox  |    Borscht, Pelmeni, Blini     | Russian  | Spring (May-June) or Fall (Sept-Oct)  |      Free      |                Generally safe                 |      Iconic cathedral known for its colorful domes and intricate architecture.       |         A symbol of Russia's rich cultural and religious heritage.          |\n",
      "|         Athens         |     Attica     | Greece  |   City   | 37.979452 | 23.716217  |         10 million          |        Euro         |  Greek Orthodox   |   Gyros, Souvlaki, Moussaka    |  Greek   | Spring (April-May) or Fall (Sept-Oct) |  Medium-high   | Generally safe, but watch out for pickpockets |        Capital city known for ancient ruins, museums, and vibrant nightlife.         |                          No Description Available                           |\n",
      "|       Santorini        |  South Aegean  | Greece  |  Island  | 36.423967 | 25.444106  |          2 million          |        Euro         |  Greek Orthodox   | Seafood, Greek salad, Moussaka |  Greek   | Spring (April-May) or Fall (Sept-Oct) |      High      |                Generally safe                 |         Famous for whitewashed buildings, blue-domed churches, and sunsets.          |                          No Description Available                           |\n",
      "+------------------------+----------------+---------+----------+-----------+------------+-----------------------------+---------------------+-------------------+--------------------------------+----------+---------------------------------------+----------------+-----------------------------------------------+--------------------------------------------------------------------------------------+-----------------------------------------------------------------------------+\n"
     ]
    }
   ],
   "source": [
    "from tabulate import tabulate\n",
    "selected_rows = df.iloc[87:92]\n",
    "print(tabulate(selected_rows, headers='keys', tablefmt='pretty', showindex=False))"
   ]
  }
 ],
 "metadata": {
  "kernelspec": {
   "display_name": "Python 3",
   "language": "python",
   "name": "python3"
  },
  "language_info": {
   "codemirror_mode": {
    "name": "ipython",
    "version": 3
   },
   "file_extension": ".py",
   "mimetype": "text/x-python",
   "name": "python",
   "nbconvert_exporter": "python",
   "pygments_lexer": "ipython3",
   "version": "3.12.6"
  }
 },
 "nbformat": 4,
 "nbformat_minor": 2
}
